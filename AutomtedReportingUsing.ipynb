{
 "cells": [
  {
   "cell_type": "code",
   "execution_count": 1,
   "id": "3f004a16",
   "metadata": {},
   "outputs": [],
   "source": [
    "import pyodbc\n",
    "import pandas as pd\n",
    "import os"
   ]
  },
  {
   "cell_type": "code",
   "execution_count": 2,
   "id": "54c2a194",
   "metadata": {},
   "outputs": [
    {
     "name": "stderr",
     "output_type": "stream",
     "text": [
      "C:\\Users\\mohan\\AppData\\Local\\Temp\\ipykernel_30140\\1413596377.py:7: UserWarning: pandas only supports SQLAlchemy connectable (engine/connection) or database string URI or sqlite3 DBAPI2 connection. Other DBAPI2 objects are not tested. Please consider using SQLAlchemy.\n",
      "  df = pd.read_sql_query(\"select * FROM SampleStoreDb.dbo.Orders$ \", connection)\n"
     ]
    }
   ],
   "source": [
    "connection = pyodbc.connect(\"Driver={SQL Server Native Client 11.0};\"\n",
    "                      \"Server=KAMAL\\SQLEXPRESS;\"\n",
    "                      \"Database=SampleStoreDb;\"\n",
    "                      \"Trusted_Connection=yes;\"\n",
    ")\n",
    "\n",
    "df = pd.read_sql_query(\"select * FROM SampleStoreDb.dbo.Orders$ \", connection)"
   ]
  },
  {
   "cell_type": "code",
   "execution_count": 3,
   "id": "6c4c9a5a",
   "metadata": {},
   "outputs": [
    {
     "name": "stdout",
     "output_type": "stream",
     "text": [
      "<class 'pandas.core.frame.DataFrame'>\n",
      "RangeIndex: 65535 entries, 0 to 65534\n",
      "Data columns (total 21 columns):\n",
      " #   Column         Non-Null Count  Dtype         \n",
      "---  ------         --------------  -----         \n",
      " 0   Row ID         65535 non-null  float64       \n",
      " 1   Order ID       65535 non-null  object        \n",
      " 2   Order Date     65535 non-null  datetime64[ns]\n",
      " 3   Ship Date      65535 non-null  datetime64[ns]\n",
      " 4   Ship Mode      65535 non-null  object        \n",
      " 5   Customer ID    65535 non-null  object        \n",
      " 6   Customer Name  65535 non-null  object        \n",
      " 7   Segment        65535 non-null  object        \n",
      " 8   Country        65535 non-null  object        \n",
      " 9   City           65535 non-null  object        \n",
      " 10  State          65535 non-null  object        \n",
      " 11  Postal Code    65467 non-null  float64       \n",
      " 12  Region         65535 non-null  object        \n",
      " 13  Product ID     65535 non-null  object        \n",
      " 14  Category       65535 non-null  object        \n",
      " 15  Sub-Category   65535 non-null  object        \n",
      " 16  Product Name   65535 non-null  object        \n",
      " 17  Sales          65535 non-null  float64       \n",
      " 18  Quantity       65535 non-null  float64       \n",
      " 19  Discount       65535 non-null  float64       \n",
      " 20  Profit         65535 non-null  float64       \n",
      "dtypes: datetime64[ns](2), float64(6), object(13)\n",
      "memory usage: 10.5+ MB\n"
     ]
    }
   ],
   "source": [
    "df.info()"
   ]
  },
  {
   "cell_type": "code",
   "execution_count": 4,
   "id": "e0b73cd4",
   "metadata": {},
   "outputs": [
    {
     "data": {
      "text/plain": [
       "array(['North Carolina', 'Massachusetts', 'Texas', 'Pennsylvania',\n",
       "       'Colorado', 'Rhode Island', 'Illinois', 'California', 'Florida',\n",
       "       'Georgia', 'Tennessee', 'New Mexico', 'New York', 'Louisiana',\n",
       "       'Washington', 'Oklahoma', 'Arizona', 'Montana', 'Missouri',\n",
       "       'Michigan', 'Indiana', 'South Carolina', 'Delaware', 'Arkansas',\n",
       "       'Maryland', 'Virginia', 'Vermont', 'Wisconsin', 'Minnesota',\n",
       "       'Ohio', 'Nebraska', 'Kansas', 'Oregon', 'Utah', 'Kentucky',\n",
       "       'Connecticut', 'Nevada', 'Alabama', 'New Jersey', 'Iowa',\n",
       "       'South Dakota', 'Idaho', 'Mississippi', 'New Hampshire',\n",
       "       'North Dakota', 'Maine', 'Wyoming', 'West Virginia',\n",
       "       'District of Columbia'], dtype=object)"
      ]
     },
     "execution_count": 4,
     "metadata": {},
     "output_type": "execute_result"
    }
   ],
   "source": [
    "ls = df['State'].unique()\n",
    "ls"
   ]
  },
  {
   "cell_type": "code",
   "execution_count": 6,
   "id": "26bb2758",
   "metadata": {},
   "outputs": [
    {
     "name": "stdout",
     "output_type": "stream",
     "text": [
      "D:\\Shared\\reports\\North Carolina\n",
      "{} file saved North Carolina\n",
      "D:\\Shared\\reports\\Massachusetts\n",
      "{} file saved Massachusetts\n",
      "D:\\Shared\\reports\\Texas\n",
      "{} file saved Texas\n",
      "D:\\Shared\\reports\\Pennsylvania\n",
      "{} file saved Pennsylvania\n",
      "D:\\Shared\\reports\\Colorado\n",
      "{} file saved Colorado\n",
      "D:\\Shared\\reports\\Rhode Island\n",
      "{} file saved Rhode Island\n",
      "D:\\Shared\\reports\\Illinois\n",
      "{} file saved Illinois\n",
      "D:\\Shared\\reports\\California\n",
      "{} file saved California\n",
      "D:\\Shared\\reports\\Florida\n",
      "{} file saved Florida\n",
      "D:\\Shared\\reports\\Georgia\n",
      "{} file saved Georgia\n",
      "D:\\Shared\\reports\\Tennessee\n",
      "{} file saved Tennessee\n",
      "D:\\Shared\\reports\\New Mexico\n",
      "{} file saved New Mexico\n",
      "D:\\Shared\\reports\\New York\n",
      "{} file saved New York\n",
      "D:\\Shared\\reports\\Louisiana\n",
      "{} file saved Louisiana\n",
      "D:\\Shared\\reports\\Washington\n",
      "{} file saved Washington\n",
      "D:\\Shared\\reports\\Oklahoma\n",
      "{} file saved Oklahoma\n",
      "D:\\Shared\\reports\\Arizona\n",
      "{} file saved Arizona\n",
      "D:\\Shared\\reports\\Montana\n",
      "{} file saved Montana\n",
      "D:\\Shared\\reports\\Missouri\n",
      "{} file saved Missouri\n",
      "D:\\Shared\\reports\\Michigan\n",
      "{} file saved Michigan\n",
      "D:\\Shared\\reports\\Indiana\n",
      "{} file saved Indiana\n",
      "D:\\Shared\\reports\\South Carolina\n",
      "{} file saved South Carolina\n",
      "D:\\Shared\\reports\\Delaware\n",
      "{} file saved Delaware\n",
      "D:\\Shared\\reports\\Arkansas\n",
      "{} file saved Arkansas\n",
      "D:\\Shared\\reports\\Maryland\n",
      "{} file saved Maryland\n",
      "D:\\Shared\\reports\\Virginia\n",
      "{} file saved Virginia\n",
      "D:\\Shared\\reports\\Vermont\n",
      "{} file saved Vermont\n",
      "D:\\Shared\\reports\\Wisconsin\n",
      "{} file saved Wisconsin\n",
      "D:\\Shared\\reports\\Minnesota\n",
      "{} file saved Minnesota\n",
      "D:\\Shared\\reports\\Ohio\n",
      "{} file saved Ohio\n",
      "D:\\Shared\\reports\\Nebraska\n",
      "{} file saved Nebraska\n",
      "D:\\Shared\\reports\\Kansas\n",
      "{} file saved Kansas\n",
      "D:\\Shared\\reports\\Oregon\n",
      "{} file saved Oregon\n",
      "D:\\Shared\\reports\\Utah\n",
      "{} file saved Utah\n",
      "D:\\Shared\\reports\\Kentucky\n",
      "{} file saved Kentucky\n",
      "D:\\Shared\\reports\\Connecticut\n",
      "{} file saved Connecticut\n",
      "D:\\Shared\\reports\\Nevada\n",
      "{} file saved Nevada\n",
      "D:\\Shared\\reports\\Alabama\n",
      "{} file saved Alabama\n",
      "D:\\Shared\\reports\\New Jersey\n",
      "{} file saved New Jersey\n",
      "D:\\Shared\\reports\\Iowa\n",
      "{} file saved Iowa\n",
      "D:\\Shared\\reports\\South Dakota\n",
      "{} file saved South Dakota\n",
      "D:\\Shared\\reports\\Idaho\n",
      "{} file saved Idaho\n",
      "D:\\Shared\\reports\\Mississippi\n",
      "{} file saved Mississippi\n",
      "D:\\Shared\\reports\\New Hampshire\n",
      "{} file saved New Hampshire\n",
      "D:\\Shared\\reports\\North Dakota\n",
      "{} file saved North Dakota\n",
      "D:\\Shared\\reports\\Maine\n",
      "{} file saved Maine\n",
      "D:\\Shared\\reports\\Wyoming\n",
      "{} file saved Wyoming\n",
      "D:\\Shared\\reports\\West Virginia\n",
      "{} file saved West Virginia\n",
      "D:\\Shared\\reports\\District of Columbia\n",
      "{} file saved District of Columbia\n"
     ]
    }
   ],
   "source": [
    "base_dir = r\"D:\\Shared\\reports\"\n",
    "for x in ls:\n",
    "    print(base_dir + \"\\\\\" + x)\n",
    "    folders = base_dir + \"\\\\\" + x\n",
    "    if not os.path.exists(folders):\n",
    "        os.makedirs(folders)\n",
    "    df[df['State'] == x].to_excel(\"{}\\{}.xlsx\".format(folders, x), sheet_name=x, index=False)\n",
    "    print(\"{} file saved\", x)"
   ]
  },
  {
   "cell_type": "code",
   "execution_count": null,
   "id": "d8a8da8d",
   "metadata": {},
   "outputs": [],
   "source": []
  }
 ],
 "metadata": {
  "kernelspec": {
   "display_name": "Python 3 (ipykernel)",
   "language": "python",
   "name": "python3"
  },
  "language_info": {
   "codemirror_mode": {
    "name": "ipython",
    "version": 3
   },
   "file_extension": ".py",
   "mimetype": "text/x-python",
   "name": "python",
   "nbconvert_exporter": "python",
   "pygments_lexer": "ipython3",
   "version": "3.10.9"
  }
 },
 "nbformat": 4,
 "nbformat_minor": 5
}
